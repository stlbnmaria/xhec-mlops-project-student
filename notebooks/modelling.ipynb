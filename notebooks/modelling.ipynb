{
 "cells": [
  {
   "attachments": {},
   "cell_type": "markdown",
   "metadata": {},
   "source": [
    "This notebook implements a first version of a working machine learning model to predict the age of an Abalone."
   ]
  },
  {
   "cell_type": "code",
   "execution_count": null,
   "metadata": {},
   "outputs": [],
   "source": [
    "from pathlib import Path\n",
    "from typing import Tuple\n",
    "\n",
    "import mlflow\n",
    "from mlflow.tracking import MlflowClient\n",
    "import pandas as pd\n",
    "from sklearn.metrics import mean_squared_error, r2_score\n",
    "from sklearn.model_selection import train_test_split\n",
    "import xgboost as xgb"
   ]
  },
  {
   "cell_type": "code",
   "execution_count": null,
   "metadata": {},
   "outputs": [],
   "source": [
    "DATA_PATH = Path(\"../data/abalone.csv\")\n",
    "EXPERIMENT = \"xgb\"\n",
    "REGISTERED_MODEL = \"xgb_regressor\"\n",
    "CATEGORICAL_COLS = [\"Sex\"]"
   ]
  },
  {
   "cell_type": "code",
   "execution_count": null,
   "metadata": {},
   "outputs": [],
   "source": [
    "# validate that mlflow runs locally\n",
    "print(f\"tracking URI: '{mlflow.get_tracking_uri()}'\")"
   ]
  },
  {
   "cell_type": "code",
   "execution_count": null,
   "metadata": {},
   "outputs": [],
   "source": [
    "def read_transform_data(path: str) -> pd.DataFrame:\n",
    "    \"\"\"Given a path, loads the data as a pandas dataframe and transforms it.\n",
    "\n",
    "    Parameters\n",
    "    ----------\n",
    "    path : string\n",
    "           String represents the path to the csv file.\n",
    "\n",
    "    Returns\n",
    "    -------\n",
    "    df : pd.Dataframe\n",
    "         Transformed dataframe.\n",
    "    \"\"\"\n",
    "\n",
    "    # read the csv\n",
    "    df = pd.read_csv(path)\n",
    "    # add age column\n",
    "    df[\"age\"] = df[\"Rings\"] + 1.5\n",
    "    # one-hot-encoding sex column\n",
    "    df = pd.get_dummies(df, columns=CATEGORICAL_COLS, prefix=CATEGORICAL_COLS, drop_first=True)\n",
    "\n",
    "    # drop Rings since we added age column\n",
    "    df = df.drop(axis=1, columns=\"Rings\")\n",
    "\n",
    "    return df"
   ]
  },
  {
   "cell_type": "code",
   "execution_count": null,
   "metadata": {},
   "outputs": [],
   "source": [
    "def extract_x_y_split(\n",
    "    df: pd.DataFrame, target: str = \"age\"\n",
    ") -> Tuple[pd.DataFrame, pd.DataFrame, pd.Series, pd.Series]:\n",
    "    \"\"\"Splits a DataFrame into feature (X) and target (y) sets and further split them into\n",
    "    training and testing sets using the train_test_split function.\n",
    "\n",
    "    Parameters\n",
    "    -----------\n",
    "        df : pd.DataFrame\n",
    "             The input DataFrame containing the dataset.\n",
    "\n",
    "        target : str (optional)\n",
    "                 The name of the target column in the DataFrame. Default is \"age\".\n",
    "\n",
    "    Returns\n",
    "    --------\n",
    "        X_train : pd.DataFrame\n",
    "                  The training feature set (X).\n",
    "        X_test : pd.DataFrame\n",
    "                 The testing feature set (X).\n",
    "        y_train : pd.Series\n",
    "                  The training target set (y).\n",
    "        y_test : pd.Series\n",
    "                 The testing target set (y).\n",
    "    \"\"\"\n",
    "\n",
    "    # extracting X\n",
    "    X = df.loc[:, df.columns != target]\n",
    "    # extracting y\n",
    "    y = df[target]\n",
    "\n",
    "    # perform train test split\n",
    "    X_train, X_test, y_train, y_test = train_test_split(X, y, test_size=0.33, random_state=42)\n",
    "\n",
    "    return X_train, X_test, y_train, y_test"
   ]
  },
  {
   "cell_type": "code",
   "execution_count": null,
   "metadata": {},
   "outputs": [],
   "source": [
    "def train_model(X_train: pd.DataFrame, y_train: pd.Series) -> xgb.XGBRegressor:\n",
    "    \"\"\"Given X_train and y_train, uses XGboost to train a model, returning the trained model.\n",
    "\n",
    "    Parameters\n",
    "    ----------\n",
    "    X_train: pd.Dataframe\n",
    "             Corresponds to the matrix with all the non target columns of the dataset.\n",
    "    y_train: pd.Series\n",
    "             Corresponds to the target column of the dataset.\n",
    "\n",
    "    Returns\n",
    "    -------\n",
    "    model : xgb.XGBRregressor\n",
    "            Trained XGboost model.\n",
    "    \"\"\"\n",
    "\n",
    "    # initialize model\n",
    "    model = xgb.XGBRegressor()\n",
    "    # fit model\n",
    "    model.fit(X_train, y_train)\n",
    "\n",
    "    return model"
   ]
  },
  {
   "cell_type": "code",
   "execution_count": null,
   "metadata": {},
   "outputs": [],
   "source": [
    "def evaluate_model(y_true: pd.Series, y_pred: pd.Series) -> Tuple[float, float]:\n",
    "    \"\"\"Evaluate the model by calculating Mean Squared Error (MSE) and R-squared (R2) scores.\n",
    "\n",
    "    Parameters\n",
    "    -----------\n",
    "        y_true : pd.Series\n",
    "                 The true target values.\n",
    "        y_pred : pd.Series\n",
    "                 The predicted target values.\n",
    "\n",
    "    Returns\n",
    "    --------\n",
    "        rmse : float\n",
    "              The Root Mean Squared Error (RMSE) between the true and predicted values.\n",
    "        r2 : float\n",
    "             The R-squared (R2) score, which measures the goodness of fit of the model.\n",
    "    \"\"\"\n",
    "\n",
    "    rmse = mean_squared_error(y_true, y_pred, squared=False)\n",
    "    r2 = r2_score(y_true, y_pred)\n",
    "    return rmse, r2"
   ]
  },
  {
   "cell_type": "code",
   "execution_count": null,
   "metadata": {},
   "outputs": [],
   "source": [
    "# create instance of MlflowClient\n",
    "client = MlflowClient()\n",
    "\n",
    "# retrieves a list of all experiments\n",
    "experiments = client.search_experiments()\n",
    "experiments"
   ]
  },
  {
   "cell_type": "code",
   "execution_count": null,
   "metadata": {},
   "outputs": [],
   "source": [
    "mlflow.set_experiment(EXPERIMENT)\n",
    "\n",
    "with mlflow.start_run() as run:\n",
    "    # get unique identifier of MLflow run\n",
    "    run_id = run.info.run_id\n",
    "\n",
    "    # set tags\n",
    "    mlflow.set_tag(\"Task_type\", \"Regression\")\n",
    "\n",
    "    # read and transform data\n",
    "    df = read_transform_data(DATA_PATH)\n",
    "\n",
    "    # splitting data\n",
    "    X_train, X_test, y_train, y_test = extract_x_y_split(df)\n",
    "    mlflow.log_param(\"X_train_size\", X_train.shape[0])\n",
    "    mlflow.log_param(\"X_test_size\", X_test.shape[0])\n",
    "\n",
    "    # train model\n",
    "    model = train_model(X_train, y_train)\n",
    "    mlflow.log_params(model.get_params())\n",
    "\n",
    "    # make prediction on X_test\n",
    "    y_pred = model.predict(X_test)\n",
    "\n",
    "    # evaluate on y_test\n",
    "    mse, r2 = evaluate_model(y_test, y_pred)\n",
    "    mlflow.log_metric(\"test_rmse\", mse)\n",
    "    mlflow.log_metric(\"test_r2\", r2)\n",
    "\n",
    "    # Log your model\n",
    "    mlflow.xgboost.log_model(model, \"model\")\n",
    "\n",
    "    # Register your model\n",
    "    mlflow.register_model(f\"runs:/{run_id}/model\", REGISTERED_MODEL)"
   ]
  }
 ],
 "metadata": {
  "kernelspec": {
   "display_name": "x-hec-solution",
   "language": "python",
   "name": "python3"
  },
  "language_info": {
   "codemirror_mode": {
    "name": "ipython",
    "version": 3
   },
   "file_extension": ".py",
   "mimetype": "text/x-python",
   "name": "python",
   "nbconvert_exporter": "python",
   "pygments_lexer": "ipython3",
   "version": "3.10.10"
  }
 },
 "nbformat": 4,
 "nbformat_minor": 2
}
