{
 "cells": [
  {
   "attachments": {},
   "cell_type": "markdown",
   "metadata": {},
   "source": [
    "In this notebook, you should implement a first version of a working machine learning model to predict the age of an Abalone.\n",
    "\n",
    "A few guidelines:\n",
    "- The model does not have to be complex. A simple linear regression model is enough.\n",
    "- You should use MLflow to track your experiments. You can use the MLflow UI to compare your experiments.\n",
    "- Do not push any MLflow data to the repository. Only the code to run the experiments is interesting and should be pushed."
   ]
  },
  {
   "cell_type": "code",
   "execution_count": null,
   "metadata": {},
   "outputs": [],
   "source": [
    "import mlflow\n",
    "from mlflow.tracking import MlflowClient\n",
    "\n",
    "import pandas as pd\n",
    "from pathlib import Path\n",
    "from sklearn.linear_model import LogisticRegression\n",
    "from sklearn.metrics import mean_squared_error, r2_score\n",
    "from sklearn.model_selection import train_test_split\n",
    "\n",
    "import xgboost as xgb"
   ]
  },
  {
   "cell_type": "code",
   "execution_count": null,
   "metadata": {},
   "outputs": [],
   "source": [
    "# validate that mlflow runs locally\n",
    "print(f\"tracking URI: '{mlflow.get_tracking_uri()}'\")"
   ]
  },
  {
   "cell_type": "code",
   "execution_count": null,
   "metadata": {},
   "outputs": [],
   "source": [
    "data_path = Path(\"../data/abalone.csv\")\n",
    "\n",
    "def read_transform_data(path):\n",
    "    # read the csv\n",
    "    df = pd.read_csv(data_path)\n",
    "    # add age column\n",
    "    df[\"age\"] = df[\"Rings\"]+1.5\n",
    "    # one-hot-encoding sex column\n",
    "    df = pd.get_dummies(df, columns=[\"Sex\"],\n",
    "                        prefix=[\"Sex\"],\n",
    "                        drop_first=True)\n",
    "    \n",
    "    df.drop(axis=1, columns=\"Rings\")\n",
    "\n",
    "    return df"
   ]
  },
  {
   "cell_type": "code",
   "execution_count": null,
   "metadata": {},
   "outputs": [],
   "source": [
    "def extract_x_y_split(\n",
    "        df: pd.DataFrame,\n",
    "        target: str = \"age\"\n",
    "):\n",
    "    \n",
    "    X = df.loc[:, df.columns!=target]\n",
    "    y = df[target]\n",
    "\n",
    "    X_train, X_test, y_train, y_test = train_test_split(X,\n",
    "                                                        y,\n",
    "                                                        test_size=0.33,\n",
    "                                                        random_state=42)\n",
    "\n",
    "\n",
    "    return X_train, X_test, y_train, y_test"
   ]
  },
  {
   "cell_type": "code",
   "execution_count": null,
   "metadata": {},
   "outputs": [],
   "source": [
    "def train_model(X_train: pd.DataFrame,\n",
    "                y_train: pd.DataFrame):\n",
    "    \n",
    "    model = xgb.XGBRegressor()\n",
    "\n",
    "    model.fit(X_train, y_train)\n",
    "\n",
    "    return model"
   ]
  },
  {
   "cell_type": "code",
   "execution_count": null,
   "metadata": {},
   "outputs": [],
   "source": [
    "def evaluate_model(y_true: pd.DataFrame, y_pred: pd.DataFrame):\n",
    "    mse = mean_squared_error(y_true, y_pred, squared=False)\n",
    "    r2  = r2_score(y_true, y_pred)\n",
    "    return mse, r2"
   ]
  },
  {
   "cell_type": "code",
   "execution_count": null,
   "metadata": {},
   "outputs": [],
   "source": [
    "# create instance of MlflowClient\n",
    "client = MlflowClient()\n",
    "\n",
    "# \n",
    "experiments = client.search_experiments()\n",
    "experiments"
   ]
  },
  {
   "cell_type": "code",
   "execution_count": null,
   "metadata": {},
   "outputs": [],
   "source": [
    "mlflow.set_experiment(f\"xgb\")\n",
    "\n",
    "with mlflow.start_run() as run:\n",
    "    # get unique identifier of MLflow run\n",
    "    run_id = run.info.run_id\n",
    "\n",
    "    # set tags\n",
    "    mlflow.set_tag(\"Task_type\", \"Regression\")\n",
    "\n",
    "    # read and transform data\n",
    "    df = read_transform_data(data_path)\n",
    "\n",
    "    # splitting data\n",
    "    X_train, X_test, y_train, y_test = extract_x_y_split(df)\n",
    "    mlflow.log_param(\"X_train_size\", X_train.shape[0])\n",
    "    mlflow.log_param(\"X_test_size\", X_test.shape[0])\n",
    "\n",
    "    # train model \n",
    "    model = train_model(X_train, y_train)\n",
    "    mlflow.log_params(model.get_params())\n",
    "\n",
    "    # make prediction on X_test\n",
    "    y_pred = model.predict(X_test)\n",
    "\n",
    "    # evaluate on y_test\n",
    "    mse, r2 = evaluate_model(y_test, y_pred)\n",
    "    mlflow.log_metric(\"test_mse\", mse)\n",
    "    mlflow.log_metric(\"test_r2\", r2)\n",
    "\n",
    "    # Log your model\n",
    "    mlflow.xgboost.log_model(model, \"model\")\n",
    "\n",
    "    # Register your model\n",
    "    mlflow.register_model(f\"runs:/{run_id}/model\", \"xgb_regressor\")"
   ]
  }
 ],
 "metadata": {
  "language_info": {
   "name": "python"
  }
 },
 "nbformat": 4,
 "nbformat_minor": 2
}
