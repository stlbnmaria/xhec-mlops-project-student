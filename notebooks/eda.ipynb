{
 "cells": [
  {
   "attachments": {},
   "cell_type": "markdown",
   "metadata": {},
   "source": [
    "# EDA (Exploratory Data Analysis) of the dataset\n",
    "\n",
    "In this notebook, explore the Abalone dataset.\n",
    "\n",
    "Add any relevant insight for future modelling."
   ]
  },
  {
   "attachments": {},
   "cell_type": "markdown",
   "metadata": {},
   "source": [
    "# Imports"
   ]
  },
  {
   "cell_type": "code",
   "execution_count": null,
   "metadata": {},
   "outputs": [],
   "source": [
    "%load_ext autoreload\n",
    "%autoreload 2\n",
    "\n",
    "import matplotlib.pyplot as plt\n",
    "import seaborn as sns\n",
    "import pandas as pd\n",
    "import warnings\n",
    "from pathlib import Path\n",
    "\n",
    "warnings.simplefilter(action='ignore', category=FutureWarning)\n",
    "\n",
    "pd.set_option('display.max_columns', 500)"
   ]
  },
  {
   "attachments": {},
   "cell_type": "markdown",
   "metadata": {},
   "source": [
    "# Data"
   ]
  },
  {
   "cell_type": "code",
   "execution_count": null,
   "metadata": {},
   "outputs": [],
   "source": [
    "data_path = Path(\"../data/abalone.csv\")\n",
    "df = pd.read_csv(data_path)\n",
    "df.head()"
   ]
  },
  {
   "attachments": {},
   "cell_type": "markdown",
   "metadata": {},
   "source": [
    "# EDA"
   ]
  },
  {
   "cell_type": "code",
   "execution_count": null,
   "metadata": {},
   "outputs": [],
   "source": [
    "print(f\"The number of duplicates is {df.duplicated().sum()}.\\n\")\n",
    "\n",
    "print(f\"The dataset doesn't have missing values:\\n {df.isna().sum()}\")"
   ]
  },
  {
   "cell_type": "code",
   "execution_count": null,
   "metadata": {},
   "outputs": [],
   "source": [
    "# Rings +1.5 gives the age in years\n",
    "df['Age'] = df['Rings'] + 1.5"
   ]
  },
  {
   "cell_type": "code",
   "execution_count": null,
   "metadata": {},
   "outputs": [],
   "source": [
    "plt.figure(figsize=(8, 6))\n",
    "sns.scatterplot(data=df, x=\"Age\", y=\"Diameter\", hue=\"Sex\", alpha=0.5, s=20)\n",
    "plt.title(\"Plot of data\")\n",
    "plt.suptitle(\"Comparison of abalones' age and diameter, categorized by sex\")\n",
    "plt.xlabel(\"Age (years)\")\n",
    "plt.ylabel(\"Diameter (mm)\")\n",
    "\n",
    "plt.legend(title=\"Sex\", loc=\"upper right\")\n",
    "\n",
    "plt.show()\n"
   ]
  },
  {
   "cell_type": "markdown",
   "metadata": {},
   "source": [
    "### Numerical Columns Analysis"
   ]
  },
  {
   "cell_type": "code",
   "execution_count": null,
   "metadata": {},
   "outputs": [],
   "source": [
    "numerical_cols = df.columns.drop(['Sex', 'Rings', 'Age'])\n",
    "\n",
    "columns_per_row = 2\n",
    "num_rows = (len(numerical_cols) + columns_per_row - 1) // columns_per_row"
   ]
  },
  {
   "cell_type": "code",
   "execution_count": null,
   "metadata": {},
   "outputs": [],
   "source": [
    "fig, axes = plt.subplots(num_rows, columns_per_row, figsize=(15, 15))\n",
    "\n",
    "axes = axes.flatten()\n",
    "\n",
    "for i, c in enumerate(numerical_cols):\n",
    "    sns.histplot(df[c], ax=axes[i])\n",
    "    axes[i].set_title(c)\n",
    "\n",
    "for j in range(i + 1, num_rows * columns_per_row):\n",
    "    fig.delaxes(axes[j])\n",
    "\n",
    "plt.tight_layout()\n",
    "plt.show()\n"
   ]
  },
  {
   "cell_type": "code",
   "execution_count": null,
   "metadata": {},
   "outputs": [],
   "source": [
    "fig, axes = plt.subplots(num_rows, columns_per_row, figsize=(15, 15))\n",
    "\n",
    "axes = axes.flatten()\n",
    "\n",
    "for i, c in enumerate(numerical_cols):\n",
    "    sns.scatterplot(data=df, x=c, y=\"Age\", hue=\"Sex\", ax=axes[i])\n",
    "    axes[i].set_title(f'{c} - Age')\n",
    "\n",
    "for j in range(i + 1, num_rows * columns_per_row):\n",
    "    fig.delaxes(axes[j])\n",
    "\n",
    "plt.tight_layout()\n",
    "plt.show()"
   ]
  },
  {
   "cell_type": "code",
   "execution_count": null,
   "metadata": {},
   "outputs": [],
   "source": [
    "fig, ax = plt.subplots(figsize=(10, 4))\n",
    "df[numerical_cols].boxplot(ax=ax)\n",
    "\n",
    "ax.set_title(\"Box Plot of Numerical Columns\")\n",
    "plt.show()"
   ]
  },
  {
   "cell_type": "markdown",
   "metadata": {},
   "source": [
    "### Pearson correlation"
   ]
  },
  {
   "cell_type": "code",
   "execution_count": null,
   "metadata": {},
   "outputs": [],
   "source": [
    "df_num = df[numerical_cols]\n",
    "corr = df_num.corr()\n",
    "\n",
    "sns.heatmap(corr)"
   ]
  },
  {
   "cell_type": "markdown",
   "metadata": {},
   "source": [
    "### Target Value Analysis"
   ]
  },
  {
   "cell_type": "code",
   "execution_count": null,
   "metadata": {},
   "outputs": [],
   "source": [
    "\n",
    "fig, axes = plt.subplots(3, 1, figsize=(10, 8))\n",
    "\n",
    "# Histogram\n",
    "sns.histplot(data=df, x=\"Age\", binwidth=round(len(df[\"Age\"].unique())**(1/3)), ax=axes[0])\n",
    "axes[0].set_title(\"Histogram of abalones' ages\")\n",
    "\n",
    "# Density Plot\n",
    "sns.kdeplot(data=df, x=\"Age\", fill=True, ax=axes[1])\n",
    "axes[1].set_title(\"Density plot of abalones' ages\")\n",
    "\n",
    "# Box Plot\n",
    "sns.boxplot(data=df, x=\"Age\", ax=axes[2])\n",
    "axes[2].set_title(\"Box plot of abalones' ages\")\n",
    "\n",
    "plt.tight_layout()\n",
    "plt.show()\n"
   ]
  }
 ],
 "metadata": {
  "kernelspec": {
   "display_name": "base",
   "language": "python",
   "name": "python3"
  },
  "language_info": {
   "codemirror_mode": {
    "name": "ipython",
    "version": 3
   },
   "file_extension": ".py",
   "mimetype": "text/x-python",
   "name": "python",
   "nbconvert_exporter": "python",
   "pygments_lexer": "ipython3",
   "version": "3.11.4"
  }
 },
 "nbformat": 4,
 "nbformat_minor": 2
}
